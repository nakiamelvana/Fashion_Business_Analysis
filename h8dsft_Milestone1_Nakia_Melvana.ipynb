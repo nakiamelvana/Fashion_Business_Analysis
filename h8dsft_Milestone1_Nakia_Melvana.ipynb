{
 "cells": [
  {
   "cell_type": "markdown",
   "metadata": {},
   "source": [
    "=================================================\n",
    "\n",
    "### Milestone 1\n",
    "\n",
    "Nama  : Nakia Melvana\n",
    "\n",
    "Batch : RMT-026\n",
    "\n",
    "**Program ini dibuat untuk menganalisis bagaimana peluang penjualan barang fashion di beberapa Negara.**\n",
    "\n",
    "================================================="
   ]
  },
  {
   "cell_type": "markdown",
   "metadata": {},
   "source": [
    "# LINK DASHBOARD TABLEAU:\n",
    "- https://public.tableau.com/views/M1_DB1_Nakia-Melvana/Dashboard1?:language=en-US&publish=yes&:display_count=n&:origin=viz_share_link"
   ]
  },
  {
   "cell_type": "markdown",
   "metadata": {},
   "source": [
    "# Identifikasi Masalah"
   ]
  },
  {
   "cell_type": "markdown",
   "metadata": {},
   "source": [
    "Seorang client ingin ekspansi bisnisnya, yaitu brand X, dengan kategori fashion ke mancanegara. Dalam hal ini, client tidak yakin dengan peluang penjualan fashion itemnya sehingga diperlukan analisis *consumer behavior*, target market, dan preferensi fashion item berdasarkan season untuk beberapa negara. Hal ini bertujuan untuk mengetahui fashion item yang memiliki peluang penjualan tinggi, negara yang berpeluang untuk menghasilkan profit besar, target market, dan faktor lainnya yang memengaruhi pembelian fashion item. "
   ]
  },
  {
   "cell_type": "markdown",
   "metadata": {},
   "source": [
    "**SMART ANALYSIS:**\n",
    "1. Spesific: Menaikkan sales brand X di negara tujuan.\n",
    "2. Measureable: Menaikkan sales minimal sebesar 95% dari sales di toko Indonesia\n",
    "3. Achieveable: Menjual fashion item sesuai dengan preferensi dari target market.\n",
    "4. Relevant: kesesuian fashion item yang dijual pada musim tertentu memengaruhi sales.\n",
    "5. Time-bound: Goal dicapai dalam kurun waktu 6 bulan. \n",
    "\n",
    "**Problem statement:**\n",
    "\n",
    "Menaikkan sales minimal sebesar 95% dari sales di toko Indonesia dengan cara menyediakan fashion item yang sesuai dengan preferensi target market yang akan dicapai dalam kurun waktu 6 bulan."
   ]
  },
  {
   "cell_type": "markdown",
   "metadata": {},
   "source": [
    "**Tujuan:**\n",
    "- Mengetahui negara mana yang sangat antusias untuk belanja fashion items \n",
    "- Mengetahui target market yang memiliki peluang retention tinggi\n",
    "- Mengetahui Target Market yang Memiliki Purchase Amount (USD) Tertinggi\n",
    "- Mengetahui preferensi fashion item\n",
    "- Mengetahui apakah membership memengaruhi seringnya pembelian item"
   ]
  },
  {
   "cell_type": "markdown",
   "metadata": {},
   "source": [
    "**5W+1H ANALYSIS:**\n",
    "- Di negara mana penjualan fashion item dengan high customer value?\n",
    "- Siapa yang memiiki peluang retention tinggi dilihat dari gender?\n",
    "- Siapa yang memiliki kecenderungan berbelanja fashion item yang tinggi dilihat dari age group dan gender?\n",
    "- Ukuran dan warna apa yang paling sering di pilih oleh customer dalam belanja fashion item?\n",
    "- Fashion item dan kategori apa yang paling banyak terjual di setiap musim?\n",
    "- Siapa target market setiap category fashion yang ditinjau dari gender?\n",
    "- Apakah membership memengaruhi frekuensi pembelian item?"
   ]
  },
  {
   "cell_type": "markdown",
   "metadata": {},
   "source": [
    "# Data Loading"
   ]
  },
  {
   "cell_type": "markdown",
   "metadata": {},
   "source": [
    "Source: https://www.kaggle.com/datasets/zeesolver/consumer-behavior-and-shopping-habits-dataset/data"
   ]
  },
  {
   "cell_type": "code",
   "execution_count": 22,
   "metadata": {},
   "outputs": [
    {
     "data": {
      "text/html": [
       "<div>\n",
       "<style scoped>\n",
       "    .dataframe tbody tr th:only-of-type {\n",
       "        vertical-align: middle;\n",
       "    }\n",
       "\n",
       "    .dataframe tbody tr th {\n",
       "        vertical-align: top;\n",
       "    }\n",
       "\n",
       "    .dataframe thead th {\n",
       "        text-align: right;\n",
       "    }\n",
       "</style>\n",
       "<table border=\"1\" class=\"dataframe\">\n",
       "  <thead>\n",
       "    <tr style=\"text-align: right;\">\n",
       "      <th></th>\n",
       "      <th>Customer ID</th>\n",
       "      <th>Age</th>\n",
       "      <th>Gender</th>\n",
       "      <th>Item Purchased</th>\n",
       "      <th>Category</th>\n",
       "      <th>Purchase Amount (USD)</th>\n",
       "      <th>Location</th>\n",
       "      <th>Size</th>\n",
       "      <th>Color</th>\n",
       "      <th>Season</th>\n",
       "      <th>Review Rating</th>\n",
       "      <th>Subscription Status</th>\n",
       "      <th>Shipping Type</th>\n",
       "      <th>Discount Applied</th>\n",
       "      <th>Promo Code Used</th>\n",
       "      <th>Previous Purchases</th>\n",
       "      <th>Payment Method</th>\n",
       "      <th>Frequency of Purchases</th>\n",
       "    </tr>\n",
       "  </thead>\n",
       "  <tbody>\n",
       "    <tr>\n",
       "      <th>0</th>\n",
       "      <td>1</td>\n",
       "      <td>55</td>\n",
       "      <td>Male</td>\n",
       "      <td>Blouse</td>\n",
       "      <td>Clothing</td>\n",
       "      <td>53</td>\n",
       "      <td>Kentucky</td>\n",
       "      <td>L</td>\n",
       "      <td>Gray</td>\n",
       "      <td>Winter</td>\n",
       "      <td>3.1</td>\n",
       "      <td>Yes</td>\n",
       "      <td>Express</td>\n",
       "      <td>Yes</td>\n",
       "      <td>Yes</td>\n",
       "      <td>14</td>\n",
       "      <td>Venmo</td>\n",
       "      <td>Fortnightly</td>\n",
       "    </tr>\n",
       "    <tr>\n",
       "      <th>1</th>\n",
       "      <td>2</td>\n",
       "      <td>19</td>\n",
       "      <td>Male</td>\n",
       "      <td>Sweater</td>\n",
       "      <td>Clothing</td>\n",
       "      <td>64</td>\n",
       "      <td>Maine</td>\n",
       "      <td>L</td>\n",
       "      <td>Maroon</td>\n",
       "      <td>Winter</td>\n",
       "      <td>3.1</td>\n",
       "      <td>Yes</td>\n",
       "      <td>Express</td>\n",
       "      <td>Yes</td>\n",
       "      <td>Yes</td>\n",
       "      <td>2</td>\n",
       "      <td>Cash</td>\n",
       "      <td>Fortnightly</td>\n",
       "    </tr>\n",
       "    <tr>\n",
       "      <th>2</th>\n",
       "      <td>3</td>\n",
       "      <td>50</td>\n",
       "      <td>Male</td>\n",
       "      <td>Jeans</td>\n",
       "      <td>Clothing</td>\n",
       "      <td>73</td>\n",
       "      <td>Massachusetts</td>\n",
       "      <td>S</td>\n",
       "      <td>Maroon</td>\n",
       "      <td>Spring</td>\n",
       "      <td>3.1</td>\n",
       "      <td>Yes</td>\n",
       "      <td>Free Shipping</td>\n",
       "      <td>Yes</td>\n",
       "      <td>Yes</td>\n",
       "      <td>23</td>\n",
       "      <td>Credit Card</td>\n",
       "      <td>Weekly</td>\n",
       "    </tr>\n",
       "    <tr>\n",
       "      <th>3</th>\n",
       "      <td>4</td>\n",
       "      <td>21</td>\n",
       "      <td>Male</td>\n",
       "      <td>Sandals</td>\n",
       "      <td>Footwear</td>\n",
       "      <td>90</td>\n",
       "      <td>Rhode Island</td>\n",
       "      <td>M</td>\n",
       "      <td>Maroon</td>\n",
       "      <td>Spring</td>\n",
       "      <td>3.5</td>\n",
       "      <td>Yes</td>\n",
       "      <td>Next Day Air</td>\n",
       "      <td>Yes</td>\n",
       "      <td>Yes</td>\n",
       "      <td>49</td>\n",
       "      <td>PayPal</td>\n",
       "      <td>Weekly</td>\n",
       "    </tr>\n",
       "    <tr>\n",
       "      <th>4</th>\n",
       "      <td>5</td>\n",
       "      <td>45</td>\n",
       "      <td>Male</td>\n",
       "      <td>Blouse</td>\n",
       "      <td>Clothing</td>\n",
       "      <td>49</td>\n",
       "      <td>Oregon</td>\n",
       "      <td>M</td>\n",
       "      <td>Turquoise</td>\n",
       "      <td>Spring</td>\n",
       "      <td>2.7</td>\n",
       "      <td>Yes</td>\n",
       "      <td>Free Shipping</td>\n",
       "      <td>Yes</td>\n",
       "      <td>Yes</td>\n",
       "      <td>31</td>\n",
       "      <td>PayPal</td>\n",
       "      <td>Annually</td>\n",
       "    </tr>\n",
       "  </tbody>\n",
       "</table>\n",
       "</div>"
      ],
      "text/plain": [
       "   Customer ID  Age Gender Item Purchased  Category  Purchase Amount (USD)  \\\n",
       "0            1   55   Male         Blouse  Clothing                     53   \n",
       "1            2   19   Male        Sweater  Clothing                     64   \n",
       "2            3   50   Male          Jeans  Clothing                     73   \n",
       "3            4   21   Male        Sandals  Footwear                     90   \n",
       "4            5   45   Male         Blouse  Clothing                     49   \n",
       "\n",
       "        Location Size      Color  Season  Review Rating Subscription Status  \\\n",
       "0       Kentucky    L       Gray  Winter            3.1                 Yes   \n",
       "1          Maine    L     Maroon  Winter            3.1                 Yes   \n",
       "2  Massachusetts    S     Maroon  Spring            3.1                 Yes   \n",
       "3   Rhode Island    M     Maroon  Spring            3.5                 Yes   \n",
       "4         Oregon    M  Turquoise  Spring            2.7                 Yes   \n",
       "\n",
       "   Shipping Type Discount Applied Promo Code Used  Previous Purchases  \\\n",
       "0        Express              Yes             Yes                  14   \n",
       "1        Express              Yes             Yes                   2   \n",
       "2  Free Shipping              Yes             Yes                  23   \n",
       "3   Next Day Air              Yes             Yes                  49   \n",
       "4  Free Shipping              Yes             Yes                  31   \n",
       "\n",
       "  Payment Method Frequency of Purchases  \n",
       "0          Venmo            Fortnightly  \n",
       "1           Cash            Fortnightly  \n",
       "2    Credit Card                 Weekly  \n",
       "3         PayPal                 Weekly  \n",
       "4         PayPal               Annually  "
      ]
     },
     "execution_count": 22,
     "metadata": {},
     "output_type": "execute_result"
    }
   ],
   "source": [
    "''' \n",
    "pada bagian ini diharuskan untuk import file csv dataset menggunakan pandas untuk diolah\n",
    "'''\n",
    "import pandas as pd\n",
    "# import file csv\n",
    "df = pd.read_csv('shopping_behavior_updated.csv')\n",
    "# menampilkan data lima teratas \n",
    "df.head()"
   ]
  },
  {
   "cell_type": "code",
   "execution_count": 23,
   "metadata": {},
   "outputs": [
    {
     "name": "stdout",
     "output_type": "stream",
     "text": [
      "<class 'pandas.core.frame.DataFrame'>\n",
      "RangeIndex: 3900 entries, 0 to 3899\n",
      "Data columns (total 18 columns):\n",
      " #   Column                  Non-Null Count  Dtype  \n",
      "---  ------                  --------------  -----  \n",
      " 0   Customer ID             3900 non-null   int64  \n",
      " 1   Age                     3900 non-null   int64  \n",
      " 2   Gender                  3900 non-null   object \n",
      " 3   Item Purchased          3900 non-null   object \n",
      " 4   Category                3900 non-null   object \n",
      " 5   Purchase Amount (USD)   3900 non-null   int64  \n",
      " 6   Location                3900 non-null   object \n",
      " 7   Size                    3900 non-null   object \n",
      " 8   Color                   3900 non-null   object \n",
      " 9   Season                  3900 non-null   object \n",
      " 10  Review Rating           3900 non-null   float64\n",
      " 11  Subscription Status     3900 non-null   object \n",
      " 12  Shipping Type           3900 non-null   object \n",
      " 13  Discount Applied        3900 non-null   object \n",
      " 14  Promo Code Used         3900 non-null   object \n",
      " 15  Previous Purchases      3900 non-null   int64  \n",
      " 16  Payment Method          3900 non-null   object \n",
      " 17  Frequency of Purchases  3900 non-null   object \n",
      "dtypes: float64(1), int64(4), object(13)\n",
      "memory usage: 548.6+ KB\n"
     ]
    }
   ],
   "source": [
    "# cek summary dari data untuk memastikan kesesuaian dataset, missing value, dan string dari kolom\n",
    "df.info()"
   ]
  },
  {
   "cell_type": "markdown",
   "metadata": {},
   "source": [
    "**Insight:** Jika berdasarkan summary data, data set memiliki 18 kolom dan 3900 data yang tidak memiliki missing value, dan data typenya sudah sesuai dengan isi dari kolom, sehingga dalam proses cleaning data hanya perlu memilih kolom dan data mana yang diperlukan. "
   ]
  },
  {
   "cell_type": "markdown",
   "metadata": {},
   "source": [
    "# Data Cleaning"
   ]
  },
  {
   "cell_type": "code",
   "execution_count": 24,
   "metadata": {},
   "outputs": [
    {
     "data": {
      "text/plain": [
       "Customer ID               0\n",
       "Age                       0\n",
       "Gender                    0\n",
       "Item Purchased            0\n",
       "Category                  0\n",
       "Purchase Amount (USD)     0\n",
       "Location                  0\n",
       "Size                      0\n",
       "Color                     0\n",
       "Season                    0\n",
       "Review Rating             0\n",
       "Subscription Status       0\n",
       "Shipping Type             0\n",
       "Discount Applied          0\n",
       "Promo Code Used           0\n",
       "Previous Purchases        0\n",
       "Payment Method            0\n",
       "Frequency of Purchases    0\n",
       "dtype: int64"
      ]
     },
     "execution_count": 24,
     "metadata": {},
     "output_type": "execute_result"
    }
   ],
   "source": [
    "# cek apakah ada missing value\n",
    "df.isna().sum()"
   ]
  },
  {
   "cell_type": "markdown",
   "metadata": {},
   "source": [
    "**Insight:** Tidak terdapat missing value pada dataset"
   ]
  },
  {
   "cell_type": "code",
   "execution_count": 25,
   "metadata": {},
   "outputs": [
    {
     "data": {
      "text/plain": [
       "0"
      ]
     },
     "execution_count": 25,
     "metadata": {},
     "output_type": "execute_result"
    }
   ],
   "source": [
    "# cek apakah ada data yang duplikat\n",
    "df.duplicated().sum()"
   ]
  },
  {
   "cell_type": "markdown",
   "metadata": {},
   "source": [
    "**Insight:** Tidak terdapat data yang duplikat pada dataset"
   ]
  },
  {
   "cell_type": "code",
   "execution_count": 26,
   "metadata": {},
   "outputs": [
    {
     "data": {
      "text/plain": [
       "Index(['Customer ID', 'Age', 'Gender', 'Item Purchased', 'Category',\n",
       "       'Purchase Amount (USD)', 'Location', 'Size', 'Color', 'Season',\n",
       "       'Review Rating', 'Subscription Status', 'Shipping Type',\n",
       "       'Discount Applied', 'Promo Code Used', 'Previous Purchases',\n",
       "       'Payment Method', 'Frequency of Purchases'],\n",
       "      dtype='object')"
      ]
     },
     "execution_count": 26,
     "metadata": {},
     "output_type": "execute_result"
    }
   ],
   "source": [
    "# cek apakah penamaan judul kolom terdapa whitespace\n",
    "df.columns"
   ]
  },
  {
   "cell_type": "markdown",
   "metadata": {},
   "source": [
    "**Insight:** Tidak terdapat whitespace pada penamaan kolom"
   ]
  },
  {
   "cell_type": "code",
   "execution_count": 27,
   "metadata": {},
   "outputs": [
    {
     "data": {
      "text/html": [
       "<div>\n",
       "<style scoped>\n",
       "    .dataframe tbody tr th:only-of-type {\n",
       "        vertical-align: middle;\n",
       "    }\n",
       "\n",
       "    .dataframe tbody tr th {\n",
       "        vertical-align: top;\n",
       "    }\n",
       "\n",
       "    .dataframe thead th {\n",
       "        text-align: right;\n",
       "    }\n",
       "</style>\n",
       "<table border=\"1\" class=\"dataframe\">\n",
       "  <thead>\n",
       "    <tr style=\"text-align: right;\">\n",
       "      <th></th>\n",
       "      <th>Age</th>\n",
       "      <th>Gender</th>\n",
       "      <th>Item Purchased</th>\n",
       "      <th>Category</th>\n",
       "      <th>Purchase Amount (USD)</th>\n",
       "      <th>Location</th>\n",
       "      <th>Size</th>\n",
       "      <th>Color</th>\n",
       "      <th>Season</th>\n",
       "      <th>Subscription Status</th>\n",
       "      <th>Previous Purchases</th>\n",
       "      <th>Frequency of Purchases</th>\n",
       "    </tr>\n",
       "  </thead>\n",
       "  <tbody>\n",
       "    <tr>\n",
       "      <th>0</th>\n",
       "      <td>55</td>\n",
       "      <td>Male</td>\n",
       "      <td>Blouse</td>\n",
       "      <td>Clothing</td>\n",
       "      <td>53</td>\n",
       "      <td>Kentucky</td>\n",
       "      <td>L</td>\n",
       "      <td>Gray</td>\n",
       "      <td>Winter</td>\n",
       "      <td>Yes</td>\n",
       "      <td>14</td>\n",
       "      <td>Fortnightly</td>\n",
       "    </tr>\n",
       "    <tr>\n",
       "      <th>1</th>\n",
       "      <td>19</td>\n",
       "      <td>Male</td>\n",
       "      <td>Sweater</td>\n",
       "      <td>Clothing</td>\n",
       "      <td>64</td>\n",
       "      <td>Maine</td>\n",
       "      <td>L</td>\n",
       "      <td>Maroon</td>\n",
       "      <td>Winter</td>\n",
       "      <td>Yes</td>\n",
       "      <td>2</td>\n",
       "      <td>Fortnightly</td>\n",
       "    </tr>\n",
       "    <tr>\n",
       "      <th>2</th>\n",
       "      <td>50</td>\n",
       "      <td>Male</td>\n",
       "      <td>Jeans</td>\n",
       "      <td>Clothing</td>\n",
       "      <td>73</td>\n",
       "      <td>Massachusetts</td>\n",
       "      <td>S</td>\n",
       "      <td>Maroon</td>\n",
       "      <td>Spring</td>\n",
       "      <td>Yes</td>\n",
       "      <td>23</td>\n",
       "      <td>Weekly</td>\n",
       "    </tr>\n",
       "    <tr>\n",
       "      <th>3</th>\n",
       "      <td>21</td>\n",
       "      <td>Male</td>\n",
       "      <td>Sandals</td>\n",
       "      <td>Footwear</td>\n",
       "      <td>90</td>\n",
       "      <td>Rhode Island</td>\n",
       "      <td>M</td>\n",
       "      <td>Maroon</td>\n",
       "      <td>Spring</td>\n",
       "      <td>Yes</td>\n",
       "      <td>49</td>\n",
       "      <td>Weekly</td>\n",
       "    </tr>\n",
       "    <tr>\n",
       "      <th>4</th>\n",
       "      <td>45</td>\n",
       "      <td>Male</td>\n",
       "      <td>Blouse</td>\n",
       "      <td>Clothing</td>\n",
       "      <td>49</td>\n",
       "      <td>Oregon</td>\n",
       "      <td>M</td>\n",
       "      <td>Turquoise</td>\n",
       "      <td>Spring</td>\n",
       "      <td>Yes</td>\n",
       "      <td>31</td>\n",
       "      <td>Annually</td>\n",
       "    </tr>\n",
       "  </tbody>\n",
       "</table>\n",
       "</div>"
      ],
      "text/plain": [
       "   Age Gender Item Purchased  Category  Purchase Amount (USD)       Location  \\\n",
       "0   55   Male         Blouse  Clothing                     53       Kentucky   \n",
       "1   19   Male        Sweater  Clothing                     64          Maine   \n",
       "2   50   Male          Jeans  Clothing                     73  Massachusetts   \n",
       "3   21   Male        Sandals  Footwear                     90   Rhode Island   \n",
       "4   45   Male         Blouse  Clothing                     49         Oregon   \n",
       "\n",
       "  Size      Color  Season Subscription Status  Previous Purchases  \\\n",
       "0    L       Gray  Winter                 Yes                  14   \n",
       "1    L     Maroon  Winter                 Yes                   2   \n",
       "2    S     Maroon  Spring                 Yes                  23   \n",
       "3    M     Maroon  Spring                 Yes                  49   \n",
       "4    M  Turquoise  Spring                 Yes                  31   \n",
       "\n",
       "  Frequency of Purchases  \n",
       "0            Fortnightly  \n",
       "1            Fortnightly  \n",
       "2                 Weekly  \n",
       "3                 Weekly  \n",
       "4               Annually  "
      ]
     },
     "execution_count": 27,
     "metadata": {},
     "output_type": "execute_result"
    }
   ],
   "source": [
    "# Mengapus kolom yang tidak terpakai pada pengolahan\n",
    "# list = ['Customer ID', 'Item Purchased', 'Review Rating', 'Shipping Type', 'Payment Method', 'Promo Code Used', \n",
    "        # 'Discount Applied', 'Review Rating']\n",
    "df.drop(['Customer ID', 'Review Rating', 'Shipping Type', 'Payment Method', 'Promo Code Used', \n",
    "        'Discount Applied', 'Review Rating'], axis=1, inplace=True)\n",
    "# Menampilkan data lima teratas\n",
    "df.head()"
   ]
  },
  {
   "cell_type": "markdown",
   "metadata": {},
   "source": [
    "**Insight:** setelah kolom yang tidak terpakai dihapus, dataset tinggal bersisa 10 kolom yang selanjutnya akan masuk ke proses analisis dan perhitungan."
   ]
  },
  {
   "cell_type": "code",
   "execution_count": 28,
   "metadata": {},
   "outputs": [],
   "source": [
    "df.to_csv('cleaned_data.csv', index=False)"
   ]
  },
  {
   "cell_type": "markdown",
   "metadata": {},
   "source": [
    "# Analisis dan Perhitungan"
   ]
  },
  {
   "cell_type": "markdown",
   "metadata": {},
   "source": [
    "### **Distribusi Umur dan gender di Dalam Data**"
   ]
  },
  {
   "cell_type": "code",
   "execution_count": 29,
   "metadata": {},
   "outputs": [
    {
     "data": {
      "text/plain": [
       "AgeGroup\n",
       "11-26 (Gen Z)           640\n",
       "27-42 (Millennials)    1200\n",
       "43-58 (Gen X)          1197\n",
       "59-68 (Boomers I)       708\n",
       "69+ (Boomers II)        155\n",
       "Name: count, dtype: int64"
      ]
     },
     "execution_count": 29,
     "metadata": {},
     "output_type": "execute_result"
    }
   ],
   "source": [
    "import pandas as pd\n",
    "\n",
    "# Mendefinisikan Age Groups\n",
    "bins = [11, 26, 42, 58, 68, 100]  \n",
    "# Labeling setiap age group\n",
    "labels = ['11-26 (Gen Z)', '27-42 (Millennials)', '43-58 (Gen X)', '59-68 (Boomers I)', '69+ (Boomers II)']\n",
    "df['AgeGroup'] = pd.cut(df['Age'], bins=bins, labels=labels)\n",
    "\n",
    "# Mendedefinisikan count_age_group untuk menghitung jumlah setiap AgeGroup\n",
    "count_age_group = df['AgeGroup'].value_counts(). reindex(labels)\n",
    "count_age_group\n"
   ]
  },
  {
   "cell_type": "markdown",
   "metadata": {},
   "source": [
    "**Insight:** responden yang ada di dalam dataset didominasi oleh Age Group Millenials dan gen X"
   ]
  },
  {
   "cell_type": "code",
   "execution_count": 30,
   "metadata": {},
   "outputs": [
    {
     "name": "stdout",
     "output_type": "stream",
     "text": [
      "Umur responden termuda: 18\n",
      "Umur responden tertua 70\n",
      "Jumlah responden laki-laki 2652\n",
      "Jumlah responden perempuan 1248\n"
     ]
    }
   ],
   "source": [
    "# Mengetahui angka minimum dari umur\n",
    "print('Umur responden termuda:',df['Age'].min())\n",
    "# Mengetahui angka maksimum dari umur\n",
    "print('Umur responden tertua', df['Age'].max())\n",
    "# Mengetahui jumlah responden laki-laki\n",
    "print('Jumlah responden laki-laki', df[df['Gender'] == 'Male'].shape[0])\n",
    "# Mengetahui jumlah responden Perempuan\n",
    "print('Jumlah responden perempuan', df[df['Gender'] == 'Female'].shape[0])"
   ]
  },
  {
   "cell_type": "markdown",
   "metadata": {},
   "source": [
    "**Insight:** umur dari responden memiliki range umur dari 18 - 70, dengan responden laki-laki mendominasi yaitu sebanyak 2652 dan responden perempuan sebanyak 1248. Hal ini akan menentukan perhitungan untuk analisis. "
   ]
  },
  {
   "cell_type": "markdown",
   "metadata": {},
   "source": [
    "### **Mengetahui negara yang sangat antusias pada belanja fashion items**"
   ]
  },
  {
   "cell_type": "code",
   "execution_count": 32,
   "metadata": {},
   "outputs": [
    {
     "data": {
      "application/vnd.plotly.v1+json": {
       "config": {
        "plotlyServerURL": "https://plot.ly"
       },
       "data": [
        {
         "coloraxis": "coloraxis",
         "geo": "geo",
         "hovertemplate": "<b>%{hovertext}</b><br><br>Location Code=%{location}<br>Mean Purchase Amount (USD)=%{z}<extra></extra>",
         "hovertext": [
          "Alabama",
          "Alaska",
          "Arizona",
          "Arkansas",
          "California",
          "Colorado",
          "Connecticut",
          "Delaware",
          "Florida",
          "Georgia",
          "Hawaii",
          "Idaho",
          "Illinois",
          "Indiana",
          "Iowa",
          "Kansas",
          "Kentucky",
          "Louisiana",
          "Maine",
          "Maryland",
          "Massachusetts",
          "Michigan",
          "Minnesota",
          "Mississippi",
          "Missouri",
          "Montana",
          "Nebraska",
          "Nevada",
          "New Hampshire",
          "New Jersey",
          "New Mexico",
          "New York",
          "North Carolina",
          "North Dakota",
          "Ohio",
          "Oklahoma",
          "Oregon",
          "Pennsylvania",
          "Rhode Island",
          "South Carolina",
          "South Dakota",
          "Tennessee",
          "Texas",
          "Utah",
          "Vermont",
          "Virginia",
          "Washington",
          "West Virginia",
          "Wisconsin",
          "Wyoming"
         ],
         "locationmode": "USA-states",
         "locations": [
          "AL",
          "AK",
          "AZ",
          "AR",
          "CA",
          "CO",
          "CT",
          "DE",
          "FL",
          "GA",
          "HI",
          "ID",
          "IL",
          "IN",
          "IA",
          "KS",
          "KY",
          "LA",
          "ME",
          "MD",
          "MA",
          "MI",
          "MN",
          "MS",
          "MO",
          "MT",
          "NE",
          "NV",
          "NH",
          "NJ",
          "NM",
          "NY",
          "NC",
          "ND",
          "OH",
          "OK",
          "OR",
          "PA",
          "RI",
          "SC",
          "SD",
          "TN",
          "TX",
          "UT",
          "VT",
          "VA",
          "WA",
          "WV",
          "WI",
          "WY"
         ],
         "name": "",
         "type": "choropleth",
         "z": [
          59.1123595505618,
          67.59722222222223,
          66.55384615384615,
          61.11392405063291,
          59,
          56.29333333333334,
          54.17948717948718,
          55.325581395348834,
          55.85294117647059,
          58.79746835443038,
          57.723076923076924,
          60.075268817204304,
          61.05434782608695,
          58.924050632911396,
          60.88405797101449,
          54.55555555555556,
          55.721518987341774,
          57.714285714285715,
          56.98701298701299,
          55.75581395348837,
          60.888888888888886,
          62.0958904109589,
          56.55681818181818,
          61.0375,
          57.91358024691358,
          60.25,
          59.44827586206897,
          63.37931034482759,
          59.42253521126761,
          56.74626865671642,
          61.901234567901234,
          60.42528735632184,
          60.794871794871796,
          62.89156626506024,
          60.37662337662338,
          58.346666666666664,
          57.33783783783784,
          66.56756756756756,
          61.44444444444444,
          58.4078947368421,
          60.51428571428571,
          61.97402597402598,
          61.1948051948052,
          62.57746478873239,
          57.1764705882353,
          62.883116883116884,
          63.32876712328767,
          63.876543209876544,
          55.946666666666665,
          60.690140845070424
         ]
        },
        {
         "locationmode": "USA-states",
         "locations": [
          "AL",
          "AK",
          "AZ",
          "AR",
          "CA",
          "CO",
          "CT",
          "DE",
          "FL",
          "GA",
          "HI",
          "ID",
          "IL",
          "IN",
          "IA",
          "KS",
          "KY",
          "LA",
          "ME",
          "MD",
          "MA",
          "MI",
          "MN",
          "MS",
          "MO",
          "MT",
          "NE",
          "NV",
          "NH",
          "NJ",
          "NM",
          "NY",
          "NC",
          "ND",
          "OH",
          "OK",
          "OR",
          "PA",
          "RI",
          "SC",
          "SD",
          "TN",
          "TX",
          "UT",
          "VT",
          "VA",
          "WA",
          "WV",
          "WI",
          "WY"
         ],
         "mode": "text",
         "text": [
          "AL",
          "AK",
          "AZ",
          "AR",
          "CA",
          "CO",
          "CT",
          "DE",
          "FL",
          "GA",
          "HI",
          "ID",
          "IL",
          "IN",
          "IA",
          "KS",
          "KY",
          "LA",
          "ME",
          "MD",
          "MA",
          "MI",
          "MN",
          "MS",
          "MO",
          "MT",
          "NE",
          "NV",
          "NH",
          "NJ",
          "NM",
          "NY",
          "NC",
          "ND",
          "OH",
          "OK",
          "OR",
          "PA",
          "RI",
          "SC",
          "SD",
          "TN",
          "TX",
          "UT",
          "VT",
          "VA",
          "WA",
          "WV",
          "WI",
          "WY"
         ],
         "type": "scattergeo"
        }
       ],
       "layout": {
        "coloraxis": {
         "colorbar": {
          "title": {
           "text": "Mean Purchase Amount (USD)"
          }
         },
         "colorscale": [
          [
           0,
           "rgb(0, 147, 146)"
          ],
          [
           0.16666666666666666,
           "rgb(114, 170, 161)"
          ],
          [
           0.3333333333333333,
           "rgb(177, 199, 179)"
          ],
          [
           0.5,
           "rgb(241, 234, 200)"
          ],
          [
           0.6666666666666666,
           "rgb(229, 185, 173)"
          ],
          [
           0.8333333333333334,
           "rgb(217, 137, 148)"
          ],
          [
           1,
           "rgb(208, 88, 126)"
          ]
         ]
        },
        "geo": {
         "center": {},
         "domain": {
          "x": [
           0,
           1
          ],
          "y": [
           0,
           1
          ]
         },
         "scope": "usa"
        },
        "legend": {
         "tracegroupgap": 0
        },
        "margin": {
         "t": 60
        },
        "template": {
         "data": {
          "bar": [
           {
            "error_x": {
             "color": "#2a3f5f"
            },
            "error_y": {
             "color": "#2a3f5f"
            },
            "marker": {
             "line": {
              "color": "#E5ECF6",
              "width": 0.5
             },
             "pattern": {
              "fillmode": "overlay",
              "size": 10,
              "solidity": 0.2
             }
            },
            "type": "bar"
           }
          ],
          "barpolar": [
           {
            "marker": {
             "line": {
              "color": "#E5ECF6",
              "width": 0.5
             },
             "pattern": {
              "fillmode": "overlay",
              "size": 10,
              "solidity": 0.2
             }
            },
            "type": "barpolar"
           }
          ],
          "carpet": [
           {
            "aaxis": {
             "endlinecolor": "#2a3f5f",
             "gridcolor": "white",
             "linecolor": "white",
             "minorgridcolor": "white",
             "startlinecolor": "#2a3f5f"
            },
            "baxis": {
             "endlinecolor": "#2a3f5f",
             "gridcolor": "white",
             "linecolor": "white",
             "minorgridcolor": "white",
             "startlinecolor": "#2a3f5f"
            },
            "type": "carpet"
           }
          ],
          "choropleth": [
           {
            "colorbar": {
             "outlinewidth": 0,
             "ticks": ""
            },
            "type": "choropleth"
           }
          ],
          "contour": [
           {
            "colorbar": {
             "outlinewidth": 0,
             "ticks": ""
            },
            "colorscale": [
             [
              0,
              "#0d0887"
             ],
             [
              0.1111111111111111,
              "#46039f"
             ],
             [
              0.2222222222222222,
              "#7201a8"
             ],
             [
              0.3333333333333333,
              "#9c179e"
             ],
             [
              0.4444444444444444,
              "#bd3786"
             ],
             [
              0.5555555555555556,
              "#d8576b"
             ],
             [
              0.6666666666666666,
              "#ed7953"
             ],
             [
              0.7777777777777778,
              "#fb9f3a"
             ],
             [
              0.8888888888888888,
              "#fdca26"
             ],
             [
              1,
              "#f0f921"
             ]
            ],
            "type": "contour"
           }
          ],
          "contourcarpet": [
           {
            "colorbar": {
             "outlinewidth": 0,
             "ticks": ""
            },
            "type": "contourcarpet"
           }
          ],
          "heatmap": [
           {
            "colorbar": {
             "outlinewidth": 0,
             "ticks": ""
            },
            "colorscale": [
             [
              0,
              "#0d0887"
             ],
             [
              0.1111111111111111,
              "#46039f"
             ],
             [
              0.2222222222222222,
              "#7201a8"
             ],
             [
              0.3333333333333333,
              "#9c179e"
             ],
             [
              0.4444444444444444,
              "#bd3786"
             ],
             [
              0.5555555555555556,
              "#d8576b"
             ],
             [
              0.6666666666666666,
              "#ed7953"
             ],
             [
              0.7777777777777778,
              "#fb9f3a"
             ],
             [
              0.8888888888888888,
              "#fdca26"
             ],
             [
              1,
              "#f0f921"
             ]
            ],
            "type": "heatmap"
           }
          ],
          "heatmapgl": [
           {
            "colorbar": {
             "outlinewidth": 0,
             "ticks": ""
            },
            "colorscale": [
             [
              0,
              "#0d0887"
             ],
             [
              0.1111111111111111,
              "#46039f"
             ],
             [
              0.2222222222222222,
              "#7201a8"
             ],
             [
              0.3333333333333333,
              "#9c179e"
             ],
             [
              0.4444444444444444,
              "#bd3786"
             ],
             [
              0.5555555555555556,
              "#d8576b"
             ],
             [
              0.6666666666666666,
              "#ed7953"
             ],
             [
              0.7777777777777778,
              "#fb9f3a"
             ],
             [
              0.8888888888888888,
              "#fdca26"
             ],
             [
              1,
              "#f0f921"
             ]
            ],
            "type": "heatmapgl"
           }
          ],
          "histogram": [
           {
            "marker": {
             "pattern": {
              "fillmode": "overlay",
              "size": 10,
              "solidity": 0.2
             }
            },
            "type": "histogram"
           }
          ],
          "histogram2d": [
           {
            "colorbar": {
             "outlinewidth": 0,
             "ticks": ""
            },
            "colorscale": [
             [
              0,
              "#0d0887"
             ],
             [
              0.1111111111111111,
              "#46039f"
             ],
             [
              0.2222222222222222,
              "#7201a8"
             ],
             [
              0.3333333333333333,
              "#9c179e"
             ],
             [
              0.4444444444444444,
              "#bd3786"
             ],
             [
              0.5555555555555556,
              "#d8576b"
             ],
             [
              0.6666666666666666,
              "#ed7953"
             ],
             [
              0.7777777777777778,
              "#fb9f3a"
             ],
             [
              0.8888888888888888,
              "#fdca26"
             ],
             [
              1,
              "#f0f921"
             ]
            ],
            "type": "histogram2d"
           }
          ],
          "histogram2dcontour": [
           {
            "colorbar": {
             "outlinewidth": 0,
             "ticks": ""
            },
            "colorscale": [
             [
              0,
              "#0d0887"
             ],
             [
              0.1111111111111111,
              "#46039f"
             ],
             [
              0.2222222222222222,
              "#7201a8"
             ],
             [
              0.3333333333333333,
              "#9c179e"
             ],
             [
              0.4444444444444444,
              "#bd3786"
             ],
             [
              0.5555555555555556,
              "#d8576b"
             ],
             [
              0.6666666666666666,
              "#ed7953"
             ],
             [
              0.7777777777777778,
              "#fb9f3a"
             ],
             [
              0.8888888888888888,
              "#fdca26"
             ],
             [
              1,
              "#f0f921"
             ]
            ],
            "type": "histogram2dcontour"
           }
          ],
          "mesh3d": [
           {
            "colorbar": {
             "outlinewidth": 0,
             "ticks": ""
            },
            "type": "mesh3d"
           }
          ],
          "parcoords": [
           {
            "line": {
             "colorbar": {
              "outlinewidth": 0,
              "ticks": ""
             }
            },
            "type": "parcoords"
           }
          ],
          "pie": [
           {
            "automargin": true,
            "type": "pie"
           }
          ],
          "scatter": [
           {
            "fillpattern": {
             "fillmode": "overlay",
             "size": 10,
             "solidity": 0.2
            },
            "type": "scatter"
           }
          ],
          "scatter3d": [
           {
            "line": {
             "colorbar": {
              "outlinewidth": 0,
              "ticks": ""
             }
            },
            "marker": {
             "colorbar": {
              "outlinewidth": 0,
              "ticks": ""
             }
            },
            "type": "scatter3d"
           }
          ],
          "scattercarpet": [
           {
            "marker": {
             "colorbar": {
              "outlinewidth": 0,
              "ticks": ""
             }
            },
            "type": "scattercarpet"
           }
          ],
          "scattergeo": [
           {
            "marker": {
             "colorbar": {
              "outlinewidth": 0,
              "ticks": ""
             }
            },
            "type": "scattergeo"
           }
          ],
          "scattergl": [
           {
            "marker": {
             "colorbar": {
              "outlinewidth": 0,
              "ticks": ""
             }
            },
            "type": "scattergl"
           }
          ],
          "scattermapbox": [
           {
            "marker": {
             "colorbar": {
              "outlinewidth": 0,
              "ticks": ""
             }
            },
            "type": "scattermapbox"
           }
          ],
          "scatterpolar": [
           {
            "marker": {
             "colorbar": {
              "outlinewidth": 0,
              "ticks": ""
             }
            },
            "type": "scatterpolar"
           }
          ],
          "scatterpolargl": [
           {
            "marker": {
             "colorbar": {
              "outlinewidth": 0,
              "ticks": ""
             }
            },
            "type": "scatterpolargl"
           }
          ],
          "scatterternary": [
           {
            "marker": {
             "colorbar": {
              "outlinewidth": 0,
              "ticks": ""
             }
            },
            "type": "scatterternary"
           }
          ],
          "surface": [
           {
            "colorbar": {
             "outlinewidth": 0,
             "ticks": ""
            },
            "colorscale": [
             [
              0,
              "#0d0887"
             ],
             [
              0.1111111111111111,
              "#46039f"
             ],
             [
              0.2222222222222222,
              "#7201a8"
             ],
             [
              0.3333333333333333,
              "#9c179e"
             ],
             [
              0.4444444444444444,
              "#bd3786"
             ],
             [
              0.5555555555555556,
              "#d8576b"
             ],
             [
              0.6666666666666666,
              "#ed7953"
             ],
             [
              0.7777777777777778,
              "#fb9f3a"
             ],
             [
              0.8888888888888888,
              "#fdca26"
             ],
             [
              1,
              "#f0f921"
             ]
            ],
            "type": "surface"
           }
          ],
          "table": [
           {
            "cells": {
             "fill": {
              "color": "#EBF0F8"
             },
             "line": {
              "color": "white"
             }
            },
            "header": {
             "fill": {
              "color": "#C8D4E3"
             },
             "line": {
              "color": "white"
             }
            },
            "type": "table"
           }
          ]
         },
         "layout": {
          "annotationdefaults": {
           "arrowcolor": "#2a3f5f",
           "arrowhead": 0,
           "arrowwidth": 1
          },
          "autotypenumbers": "strict",
          "coloraxis": {
           "colorbar": {
            "outlinewidth": 0,
            "ticks": ""
           }
          },
          "colorscale": {
           "diverging": [
            [
             0,
             "#8e0152"
            ],
            [
             0.1,
             "#c51b7d"
            ],
            [
             0.2,
             "#de77ae"
            ],
            [
             0.3,
             "#f1b6da"
            ],
            [
             0.4,
             "#fde0ef"
            ],
            [
             0.5,
             "#f7f7f7"
            ],
            [
             0.6,
             "#e6f5d0"
            ],
            [
             0.7,
             "#b8e186"
            ],
            [
             0.8,
             "#7fbc41"
            ],
            [
             0.9,
             "#4d9221"
            ],
            [
             1,
             "#276419"
            ]
           ],
           "sequential": [
            [
             0,
             "#0d0887"
            ],
            [
             0.1111111111111111,
             "#46039f"
            ],
            [
             0.2222222222222222,
             "#7201a8"
            ],
            [
             0.3333333333333333,
             "#9c179e"
            ],
            [
             0.4444444444444444,
             "#bd3786"
            ],
            [
             0.5555555555555556,
             "#d8576b"
            ],
            [
             0.6666666666666666,
             "#ed7953"
            ],
            [
             0.7777777777777778,
             "#fb9f3a"
            ],
            [
             0.8888888888888888,
             "#fdca26"
            ],
            [
             1,
             "#f0f921"
            ]
           ],
           "sequentialminus": [
            [
             0,
             "#0d0887"
            ],
            [
             0.1111111111111111,
             "#46039f"
            ],
            [
             0.2222222222222222,
             "#7201a8"
            ],
            [
             0.3333333333333333,
             "#9c179e"
            ],
            [
             0.4444444444444444,
             "#bd3786"
            ],
            [
             0.5555555555555556,
             "#d8576b"
            ],
            [
             0.6666666666666666,
             "#ed7953"
            ],
            [
             0.7777777777777778,
             "#fb9f3a"
            ],
            [
             0.8888888888888888,
             "#fdca26"
            ],
            [
             1,
             "#f0f921"
            ]
           ]
          },
          "colorway": [
           "#636efa",
           "#EF553B",
           "#00cc96",
           "#ab63fa",
           "#FFA15A",
           "#19d3f3",
           "#FF6692",
           "#B6E880",
           "#FF97FF",
           "#FECB52"
          ],
          "font": {
           "color": "#2a3f5f"
          },
          "geo": {
           "bgcolor": "white",
           "lakecolor": "white",
           "landcolor": "#E5ECF6",
           "showlakes": true,
           "showland": true,
           "subunitcolor": "white"
          },
          "hoverlabel": {
           "align": "left"
          },
          "hovermode": "closest",
          "mapbox": {
           "style": "light"
          },
          "paper_bgcolor": "white",
          "plot_bgcolor": "#E5ECF6",
          "polar": {
           "angularaxis": {
            "gridcolor": "white",
            "linecolor": "white",
            "ticks": ""
           },
           "bgcolor": "#E5ECF6",
           "radialaxis": {
            "gridcolor": "white",
            "linecolor": "white",
            "ticks": ""
           }
          },
          "scene": {
           "xaxis": {
            "backgroundcolor": "#E5ECF6",
            "gridcolor": "white",
            "gridwidth": 2,
            "linecolor": "white",
            "showbackground": true,
            "ticks": "",
            "zerolinecolor": "white"
           },
           "yaxis": {
            "backgroundcolor": "#E5ECF6",
            "gridcolor": "white",
            "gridwidth": 2,
            "linecolor": "white",
            "showbackground": true,
            "ticks": "",
            "zerolinecolor": "white"
           },
           "zaxis": {
            "backgroundcolor": "#E5ECF6",
            "gridcolor": "white",
            "gridwidth": 2,
            "linecolor": "white",
            "showbackground": true,
            "ticks": "",
            "zerolinecolor": "white"
           }
          },
          "shapedefaults": {
           "line": {
            "color": "#2a3f5f"
           }
          },
          "ternary": {
           "aaxis": {
            "gridcolor": "white",
            "linecolor": "white",
            "ticks": ""
           },
           "baxis": {
            "gridcolor": "white",
            "linecolor": "white",
            "ticks": ""
           },
           "bgcolor": "#E5ECF6",
           "caxis": {
            "gridcolor": "white",
            "linecolor": "white",
            "ticks": ""
           }
          },
          "title": {
           "x": 0.05
          },
          "xaxis": {
           "automargin": true,
           "gridcolor": "white",
           "linecolor": "white",
           "ticks": "",
           "title": {
            "standoff": 15
           },
           "zerolinecolor": "white",
           "zerolinewidth": 2
          },
          "yaxis": {
           "automargin": true,
           "gridcolor": "white",
           "linecolor": "white",
           "ticks": "",
           "title": {
            "standoff": 15
           },
           "zerolinecolor": "white",
           "zerolinewidth": 2
          }
         }
        },
        "title": {
         "text": "Average Customer Purchase Amount by State",
         "x": 0.5,
         "xanchor": "center",
         "yanchor": "top"
        }
       }
      }
     },
     "metadata": {},
     "output_type": "display_data"
    }
   ],
   "source": [
    "import plotly.express as px\n",
    "\n",
    "''' \n",
    "pada bagian ini diawali dengan mendefinisikan data frame map sebagai df_loc yang mana merupakan data frame yang berisi kan kolom 'Location' dan \n",
    "'Purchase Amount' dari data frame df yang di group berdasarkan 'Location' \n",
    "\n",
    "'''\n",
    "\n",
    "# mendefinisikan dataframe df_loc\n",
    "df_loc= df[['Location', 'Purchase Amount (USD)']].groupby('Location').mean().reset_index().rename(columns={'Purchase Amount (USD)':'Mean Purchase Amount (USD)'})\n",
    "\n",
    "# mendefinisikan kode state dengan dua huruf sebagai dictionary loc_code\n",
    "loc_code = {'Alabama': 'AL',\n",
    "        'Alaska': 'AK',\n",
    "        'Arizona': 'AZ',\n",
    "        'Arkansas': 'AR',\n",
    "        'California': 'CA',\n",
    "        'Colorado': 'CO',\n",
    "        'Connecticut': 'CT',\n",
    "        'Delaware': 'DE',\n",
    "        'District of Columbia': 'DC',\n",
    "        'Florida': 'FL',\n",
    "        'Georgia': 'GA',\n",
    "        'Hawaii': 'HI',\n",
    "        'Idaho': 'ID',\n",
    "        'Illinois': 'IL',\n",
    "        'Indiana': 'IN',\n",
    "        'Iowa': 'IA',\n",
    "        'Kansas': 'KS',\n",
    "        'Kentucky': 'KY',\n",
    "        'Louisiana': 'LA',\n",
    "        'Maine': 'ME',\n",
    "        'Maryland': 'MD',\n",
    "        'Massachusetts': 'MA',\n",
    "        'Michigan': 'MI',\n",
    "        'Minnesota': 'MN',\n",
    "        'Mississippi': 'MS',\n",
    "        'Missouri': 'MO',\n",
    "        'Montana': 'MT',\n",
    "        'Nebraska': 'NE',\n",
    "        'Nevada': 'NV',\n",
    "        'New Hampshire': 'NH',\n",
    "        'New Jersey': 'NJ',\n",
    "        'New Mexico': 'NM',\n",
    "        'New York': 'NY',\n",
    "        'North Carolina': 'NC',\n",
    "        'North Dakota': 'ND',\n",
    "        'Ohio': 'OH',\n",
    "        'Oklahoma': 'OK',\n",
    "        'Oregon': 'OR',\n",
    "        'Pennsylvania': 'PA',\n",
    "        'Rhode Island': 'RI',\n",
    "        'South Carolina': 'SC',\n",
    "        'South Dakota': 'SD',\n",
    "        'Tennessee': 'TN',\n",
    "        'Texas': 'TX',\n",
    "        'Utah': 'UT',\n",
    "        'Vermont': 'VT',\n",
    "        'Virginia': 'VA',\n",
    "        'Washington': 'WA',\n",
    "        'West Virginia': 'WV',\n",
    "        'Wisconsin': 'WI',\n",
    "        'Wyoming': 'WY'}\n",
    "\n",
    "# membuat kolob baru bernama 'Location Code' dengan mapping dari kolom 'Location' ke kode state\n",
    "df_loc['Location Code']=df_loc['Location'].map(loc_code)\n",
    "\n",
    "# Membuat cloropeth map\n",
    "fig = px.choropleth(\n",
    "    df_loc,\n",
    "    locations='Location Code',  # Mendefinisikan 'Location Code' untuk lokasi\n",
    "    color='Mean Purchase Amount (USD)',  # Menggunakan Mean Purchase Amount (USD) untuk coloring\n",
    "    color_continuous_scale='tealrose',  # Menggunakan colorscale tealrose\n",
    "    hover_name='Location',  # Display nama lokasi pada bagian hover\n",
    "    locationmode='USA-states',  # mengatur locationmode dengan 'USA-states'\n",
    "    scope='usa',  # mengatur scope map di 'usa'\n",
    "    labels={'Mean Purchase Amount (USD)': 'Mean Purchase Amount (USD)'}  # set nama label untuk legend\n",
    ")\n",
    "\n",
    "# menambahkan text kode lokasi\n",
    "fig.add_scattergeo(\n",
    "    locations=df_loc['Location Code'], # set lokasi dengan kolom 'Location Code'\n",
    "    locationmode='USA-states', # set location mode 'USA-states\n",
    "    text=df_loc['Location Code'], # text dari kolom 'Location Code'\n",
    "    mode='text' #set mode 'text\n",
    ")\n",
    "\n",
    "# mengatur layout\n",
    "fig.update_layout(\n",
    "    title={\n",
    "        'text': 'Average Customer Purchase Amount by State',\n",
    "        'xanchor': 'center',\n",
    "        'yanchor': 'top',\n",
    "        'x': 0.5\n",
    "    }\n",
    ")\n",
    "\n",
    "# menampilkan plot\n",
    "fig.show()"
   ]
  },
  {
   "cell_type": "markdown",
   "metadata": {},
   "source": [
    "**Insight:** Terdapat tiga negara dengan average purchase amount tertinggi, yaitu Alaska, Arizona, dan Pennsylvania. Hal ini dapat menunjukkan bahwa customer dari ketiga negara tersebut memiliki customer yang sangat tertarik dengan fashion items dilihat dari rata-rata amount purchase (USD) yang tinggi. Sedangkan pada negara Kansas dan Connecticut memiliki buying power yang paling rendah, sehingga tidak direkomendasikan ekspansi brand fashion ke negara tersebut."
   ]
  },
  {
   "cell_type": "markdown",
   "metadata": {},
   "source": [
    "### **Mengetahui target market yang memiliki peluang retention tertinggi**"
   ]
  },
  {
   "cell_type": "code",
   "execution_count": 33,
   "metadata": {},
   "outputs": [
    {
     "data": {
      "image/png": "[encoded data removed]",
      "text/plain": [
       "<Figure size 640x480 with 1 Axes>"
      ]
     },
     "metadata": {},
     "output_type": "display_data"
    }
   ],
   "source": [
    "# import library matplotlib dan seaborn\n",
    "import matplotlib.pyplot as plt\n",
    "import seaborn as sns\n",
    "\n",
    "# Rata-rata 'Previous Purchases' group by Gender\n",
    "loyalty = df.groupby('Gender')['Previous Purchases'].mean()\n",
    "# Mendefinisikan color_palette yang digunakan\n",
    "palette_color = sns.color_palette('bright') \n",
    "# visualisasi data dengan pie chart\n",
    "loyalty.plot.pie(colors = palette_color, autopct='%1.1f%%', startangle=90)\n",
    "# Mendefinisikan judul pie chart\n",
    "plt.title('Average Previous Purchase by Gender')\n",
    "# Mendefinsiilan ylabel\n",
    "plt.ylabel('')\n",
    "# menampilkan pie chart\n",
    "plt.show()"
   ]
  },
  {
   "cell_type": "markdown",
   "metadata": {},
   "source": [
    "**Insight:** laki-laki memiliki persentase rata- rata previous purchases lebih tinggi dibandingkan dengan perempuan, hal ini menunjukkan bahwa laki-laki cenderung berbelanja berkali-kali di toko yang sama dibandingkan dengan perempuan, sehingga memberikan insight bahwa target market gender laki-laki lebih loyal dibandingkan dengan perempuan."
   ]
  },
  {
   "cell_type": "markdown",
   "metadata": {},
   "source": [
    "### **Mengetahui Target Market yang Memiliki Purchase Amount (USD) Tertinggi**"
   ]
  },
  {
   "cell_type": "code",
   "execution_count": 34,
   "metadata": {},
   "outputs": [
    {
     "data": {
      "image/png": "[encoded data removed]",
      "text/plain": [
       "<Figure size 1000x700 with 1 Axes>"
      ]
     },
     "metadata": {},
     "output_type": "display_data"
    }
   ],
   "source": [
    "# Mendefinisikan data purchase_gender_age adalah dataframe dengan menunjukkan mean dari purchase amount berdasarkan gender dan age group\n",
    "purchase_gender_age = df.groupby(['Gender', 'AgeGroup'],observed=False)['Purchase Amount (USD)'].mean().reset_index()\n",
    "# Mendefinisikan ukuran gambar\n",
    "plt.figure(figsize=(10, 7))\n",
    "# barplot didefinisikan sebagai ax\n",
    "ax = sns.barplot(x='AgeGroup', y='Purchase Amount (USD)', hue='Gender', data=purchase_gender_age)\n",
    "\n",
    "''' \n",
    "pada bagian ini, digunakan untuk menampilkan value dari setiap bar menggunakan for loop untuk value di dalam setiap bar (patch) pada axes (ax).\n",
    "'''\n",
    "\n",
    "# Membuat for loop untuk value pada setiap bar\n",
    "for value in ax.patches:\n",
    "    # Mendefinisikan tinggi pada setiap bar\n",
    "    height = value.get_height()\n",
    "    \n",
    "    ''' \n",
    "    pada bagian ini didefinisikan untuk annotate plot dengan text. Di format dengan value tinggi ditulis dua angka desimal dan convert ke string.\n",
    "    kemudian mendefinisikan penempatan tulisan di tengah atas setiap bar dengan (value.get_x() + value.get_width() / 2., height). set horizontal\n",
    "    dan vertical alignment ke tengah. Menentukan point text xytext=(0, 10) dari posisi awal yg di set. terakhir, di spesifikasi bahwa\n",
    "    koordinat dari text yang ditetapkan relatif pada posisi yang ditentukan.\n",
    "    '''\n",
    "    # mendefinisikan value yang ditetapkan pada setiap bar\n",
    "    ax.annotate(f'{height:.2f}', (value.get_x() + value.get_width() / 2., height),\n",
    "                ha='center', va='center', xytext=(0, 10), textcoords='offset points')\n",
    "    \n",
    "# Mengatur judul dan lokasi legend\n",
    "plt.legend(title='Gender', loc='upper right')\n",
    "# Mengatur judul\n",
    "plt.title('Mean Purchase Amount (USD) by Gender and AgeGroup')\n",
    "# menentukan nama xlabel\n",
    "plt.xlabel('AgeGroup')\n",
    "# menentukan nama ylabel\n",
    "plt.ylabel('Mean Purchase Amount (USD)')\n",
    "# menentukan titik awal y adalah 50\n",
    "plt.ylim(50)\n",
    "# menampilkan chart\n",
    "plt.show()"
   ]
  },
  {
   "cell_type": "markdown",
   "metadata": {},
   "source": [
    "**Insight:** rata-rata dari purchase amount (USD) tertinggi dimiliki oleh perempuan dengan age group Boomers II, diikuti dengan age group Boomers I, dan age group gen Z. Dapat disimpulkan bahwa perempuan dari ketiga age group tersebut memiliki kemampuan purchase yang cukup tinggi dibandingkan dengan age group lainnya. Hal ini bisa di jadikan target market utama jika ingin menaikkan sales. "
   ]
  },
  {
   "cell_type": "markdown",
   "metadata": {},
   "source": [
    "### **Mengetahui preferensi fashion item**"
   ]
  },
  {
   "cell_type": "code",
   "execution_count": 35,
   "metadata": {},
   "outputs": [
    {
     "data": {
      "text/html": [
       "<div>\n",
       "<style scoped>\n",
       "    .dataframe tbody tr th:only-of-type {\n",
       "        vertical-align: middle;\n",
       "    }\n",
       "\n",
       "    .dataframe tbody tr th {\n",
       "        vertical-align: top;\n",
       "    }\n",
       "\n",
       "    .dataframe thead th {\n",
       "        text-align: right;\n",
       "    }\n",
       "</style>\n",
       "<table border=\"1\" class=\"dataframe\">\n",
       "  <thead>\n",
       "    <tr style=\"text-align: right;\">\n",
       "      <th></th>\n",
       "      <th>Size</th>\n",
       "      <th>Color</th>\n",
       "    </tr>\n",
       "    <tr>\n",
       "      <th>Gender</th>\n",
       "      <th></th>\n",
       "      <th></th>\n",
       "    </tr>\n",
       "  </thead>\n",
       "  <tbody>\n",
       "    <tr>\n",
       "      <th>Female</th>\n",
       "      <td>M</td>\n",
       "      <td>Yellow</td>\n",
       "    </tr>\n",
       "    <tr>\n",
       "      <th>Male</th>\n",
       "      <td>M</td>\n",
       "      <td>Silver</td>\n",
       "    </tr>\n",
       "  </tbody>\n",
       "</table>\n",
       "</div>"
      ],
      "text/plain": [
       "       Size   Color\n",
       "Gender             \n",
       "Female    M  Yellow\n",
       "Male      M  Silver"
      ]
     },
     "execution_count": 35,
     "metadata": {},
     "output_type": "execute_result"
    }
   ],
   "source": [
    "# warna dan ukuran yang paling sering di pilih\n",
    "mode_size_color = df.groupby('Gender')[['Size', 'Color']].agg(lambda x: x.mode().iloc[0])\n",
    "mode_size_color"
   ]
  },
  {
   "cell_type": "markdown",
   "metadata": {},
   "source": [
    "**Insight:** Size yang paling banyak dipilih adalah ukuran M sedangkan warna yang paling sering dipilih oleh perempuan adalah kuning dan untuk laki-laki adalah warna silver. "
   ]
  },
  {
   "cell_type": "code",
   "execution_count": 36,
   "metadata": {},
   "outputs": [
    {
     "data": {
      "image/png": "[encoded data removed]",
      "text/plain": [
       "<Figure size 640x480 with 1 Axes>"
      ]
     },
     "metadata": {},
     "output_type": "display_data"
    }
   ],
   "source": [
    "# Best-Selling Fashion Items by Season\n",
    "best_selling_by_season = df.groupby('Season')['Category'].value_counts().unstack()\n",
    "# plot dengan chart stacked bar\n",
    "ax = best_selling_by_season.plot(kind='bar', stacked=True)\n",
    "# set judul\n",
    "plt.title('Best-Selling Fashion Category by Season')\n",
    "# set judul dari legend\n",
    "plt.legend(title='Fashion Category')\n",
    "# set nama xlabel\n",
    "plt.xlabel('Season')\n",
    "# set nama ylabel\n",
    "plt.ylabel('Count')\n",
    "# set range dari ylabel\n",
    "ax.set_ylim(bottom=0, top=1500)\n",
    "# tampilkan chart\n",
    "plt.show()"
   ]
  },
  {
   "cell_type": "markdown",
   "metadata": {},
   "source": [
    "**Insight:** Terlihat bahwa dari semua musim, fashion category yang paling banyak terjual adalah clothing yang kemudian diikuti oleh accessories. Sehingga, penjualan fashion items dapat difokuskan kepada kedua category tersebut untuk meningkatkan sales. "
   ]
  },
  {
   "cell_type": "code",
   "execution_count": 37,
   "metadata": {},
   "outputs": [
    {
     "data": {
      "image/png": "[encoded data removed]",
      "text/plain": [
       "<Figure size 1200x800 with 4 Axes>"
      ]
     },
     "metadata": {},
     "output_type": "display_data"
    }
   ],
   "source": [
    "# membuat subplots untuk setiap musim\n",
    "fig, axes = plt.subplots(nrows=2, ncols=2, figsize=(12, 8))\n",
    "\n",
    "# Flatten 2D array menjadi 1D array\n",
    "axes = axes.flatten()\n",
    "\n",
    "# membuat list seasons\n",
    "seasons = ['Fall', 'Spring', 'Winter', 'Summer']\n",
    "\n",
    "# for loop seasons dan axes array\n",
    "for season, ax in zip(seasons, axes):\n",
    "    # mendefinisikan selling_by_season dengan kolom season yang di groupkan dengan item purchased\n",
    "    selling_by_season = df[df['Season'] == season].groupby('Item Purchased').size()\n",
    "    # sort value descending, reset_index dengan nama count, limit 5 data teratas\n",
    "    selling_by_season = selling_by_season.sort_values(ascending=False).reset_index(name='Count').head(5)\n",
    "\n",
    "    # visualisasi barplot dengan seaborn\n",
    "    sns.barplot(x='Count', y='Item Purchased', data=selling_by_season, ax=ax)\n",
    "    # set judul\n",
    "    ax.set_title(f'Top 5 Selling Items in {season}')\n",
    "    # set label x\n",
    "    ax.set_xlabel('Count')\n",
    "    # set label y\n",
    "    ax.set_ylabel('Item Purchased')\n",
    "\n",
    "\n",
    "# atur layout agar tidak overlap\n",
    "plt.tight_layout()\n",
    "# menampilkan gambar\n",
    "plt.show()"
   ]
  },
  {
   "cell_type": "markdown",
   "metadata": {},
   "source": [
    "**Insight:** Visualisasi di atas menunjukkan best selling item pada setiap musim. Pada musim Fall customer paling banyak membeli jaket, pada musim spring customer paling banyak membeli sweater, pada musim winter customer paling banyak membeli sunglasses, pada musim summer customer paling banyak membeli pants. Berdasarkan visualisasi, strategi penjualan pada setiap musim dapat ditentukan berdasarkan best selling item setiap musim."
   ]
  },
  {
   "cell_type": "code",
   "execution_count": 38,
   "metadata": {},
   "outputs": [
    {
     "data": {
      "image/png": "[encoded data removed]",
      "text/plain": [
       "<Figure size 1000x600 with 1 Axes>"
      ]
     },
     "metadata": {},
     "output_type": "display_data"
    }
   ],
   "source": [
    "# mendefinisikan dataframe purchase amount (USD) yang digroup dengan Gender dan Category didefinisikan dengan gender_purchase\n",
    "gender_purchase = df.groupby(['Gender', 'Category',])['Purchase Amount (USD)'].mean().reset_index()\n",
    "\n",
    "# Mendefinisikan ukuran dari chart\n",
    "plt.figure(figsize=(10, 6))\n",
    "# plot menggunakan barplot dengan x sebagai category, y sebagai purchase amount, dan hue sebagai gender\n",
    "ax = sns.barplot(x='Category', y='Purchase Amount (USD)', hue='Gender', data=gender_purchase)\n",
    "\n",
    "# Membuat for loop untuk value pada setiap bar\n",
    "for value in ax.patches:\n",
    "    # Mendefinisikan tinggi pada setiap bar\n",
    "    height = value.get_height()\n",
    "    \n",
    "    ''' \n",
    "    pada bagian ini didefinisikan untuk annotate plot dengan text. Di format dengan value tinggi ditulis dua angka desimal dan convert ke string.\n",
    "    kemudian mendefinisikan penempatan tulisan di tengah atas setiap bar dengan (value.get_x() + value.get_width() / 2., height). set horizontal\n",
    "    dan vertical alignment ke tengah. Menentukan point text xytext=(0, 10) dari posisi awal yg di set. terakhir, di spesifikasi bahwa\n",
    "    koordinat dari text yang ditetapkan relatif pada posisi yang ditentukan.\n",
    "    '''\n",
    "    # mendefinisikan value yang ditetapkan pada setiap bar\n",
    "    ax.annotate(f'{height:.2f}', (value.get_x() + value.get_width() / 2., height),\n",
    "                ha='center', va='center', xytext=(0, 10), textcoords='offset points')\n",
    "\n",
    "# set judul\n",
    "plt.title('Preference Fahion Category by Gender')\n",
    "# set nama xlabel\n",
    "plt.xlabel('Gender')\n",
    "# set nama ylabel\n",
    "plt.ylabel('Purchase Amount (USD)')\n",
    "# set titik awal sumbu y\n",
    "plt.ylim(45)\n",
    "# set judul legend\n",
    "plt.legend(title='Gender')\n",
    "\n",
    "# Menampilkan plot\n",
    "plt.show()\n"
   ]
  },
  {
   "cell_type": "markdown",
   "metadata": {},
   "source": [
    "**Insight:** Berdasarkan visualisasi yang didapat, terlihat bahwa pembelian tertinggi berada pada kategori accessories oleh perempuan. Sedangkan untuk gender laki-laki pembelian tertinggi nya ada pada footwear. Pada kedua gender, pembelian tertinggi kedua sama-sama clothing. Dengan visualisasi seperti ini, kemudian dapat ditentukan target market setiap category fashion. "
   ]
  },
  {
   "cell_type": "markdown",
   "metadata": {},
   "source": [
    "### **Mengetahui apakah membership memengaruhi loyalty**"
   ]
  },
  {
   "cell_type": "code",
   "execution_count": 39,
   "metadata": {},
   "outputs": [
    {
     "name": "stdout",
     "output_type": "stream",
     "text": [
      "['Fortnightly' 'Weekly' 'Annually' 'Quarterly' 'Bi-Weekly' 'Monthly'\n",
      " 'Every 3 Months']\n"
     ]
    }
   ],
   "source": [
    "# mendefinisikan unique value pada Frequency of purchases\n",
    "unique_value = pd.unique(df['Frequency of Purchases'].values.ravel('K'))\n",
    "# menampilkan unique value\n",
    "print(unique_value)"
   ]
  },
  {
   "cell_type": "code",
   "execution_count": 40,
   "metadata": {},
   "outputs": [],
   "source": [
    "''' \n",
    "Dari unique value yang didapat, dari string mau di convert menjadi angka dengan tujuan untuk perhitungan uji hipotesis, sehingga setiap value yang\n",
    "ditetapkan adalah dianggap jumlah Frequency of purchases dalam setahun.\n",
    "'''\n",
    "# replace setiap unique value menjadi value angka\n",
    "df[['Frequency of Purchases']] = df[['Frequency of Purchases']].replace({'Fortnightly': '26', 'Bi-Weekly' : '26', 'Weekly': '52', 'Annually': '1', 'Quarterly':'4', 'Monthly':'12', 'Every 3 Months' : '4'  }, regex= True)\n",
    "# mengubah tipe data kolom Frequency of Purchases menjadi integer\n",
    "df[['Frequency of Purchases']] = df[['Frequency of Purchases']].apply(pd.to_numeric)"
   ]
  },
  {
   "cell_type": "markdown",
   "metadata": {},
   "source": [
    "H0 = tidak terdapat perbedaan signifikan dalam Frequency of Purchases antara members dan non-members\n",
    "\n",
    "H1 =  Terdapat perbedaan signifikan dalam Frequency of Purchases antara members dan non-members."
   ]
  },
  {
   "cell_type": "code",
   "execution_count": 41,
   "metadata": {},
   "outputs": [
    {
     "name": "stdout",
     "output_type": "stream",
     "text": [
      "T-statistic: -1.0916\n",
      "P-value: 0.2751\n",
      "Gagal menolak hipotesis nol: tidak terdapat perbedaan signifikan dalam Frequency of Purchases antara members dan non-members.\n"
     ]
    }
   ],
   "source": [
    "## Two-sample dependent test\n",
    "# Import library scipy\n",
    "import scipy.stats as stats\n",
    "\n",
    "# mendefinisikan non members adalah No pada kolom Subscription Status\n",
    "non_members = df[df['Subscription Status'] == 'No']['Frequency of Purchases']\n",
    "# mendefinisikan members pada adalah yes pada kolom Subscription Status\n",
    "members = df[df['Subscription Status'] == 'Yes']['Frequency of Purchases']\n",
    "\n",
    "# Menghitung tstatistik dan pvalue dari non_members dan members\n",
    "t_stat, p_value = stats.ttest_ind(non_members, members)\n",
    "\n",
    "# Set nilai critical value\n",
    "alpha = 0.05\n",
    "\n",
    "# print nilai t statistic\n",
    "print(f'T-statistic: {t_stat:.4f}')\n",
    "# print nilai p-value\n",
    "print(f'P-value: {p_value:.4f}')\n",
    "\n",
    "# cek apakah pvalue kurang dari nilai critical value\n",
    "if p_value < alpha:\n",
    "    print(\"Menolak hipotesis nol: Terdapat perbedaan signifikan dalam Frequency of Purchases antara members dan non-members.\")\n",
    "else:\n",
    "    print(\"Gagal menolak hipotesis nol: tidak terdapat perbedaan signifikan dalam Frequency of Purchases antara members dan non-members.\")\n"
   ]
  },
  {
   "cell_type": "markdown",
   "metadata": {},
   "source": [
    "**Insight:** Hasil dari uji hipotesis menggunakan Two-sample dependent test adalah hipotesis H0 diterima, yaitu tidak terdapat perbedaan signifikan dalam Frequency of Purchases antara members dan non-members. Sehingga dapat diambil kesimpulan bahwa membership tidak memberikan dampak yang begitu besar untuk revenue."
   ]
  },
  {
   "cell_type": "markdown",
   "metadata": {},
   "source": [
    "# Pengambilan Kesimpulan"
   ]
  },
  {
   "cell_type": "markdown",
   "metadata": {},
   "source": [
    "**Key insights:**\n",
    "1. **Fokus pada negara Alaska, Arizona, dan Pennsylvania.** Ketiga negara ini mencerminkan high-value customers yang secara sukarela untuk membayar lebih demi fashion item. Company perlu mempertimbangkan ekspansi ke tiga negara ini.\n",
    "2. **Target laki-laki dalam pembuatan membership.** Laki-laki memiliki kecenderungan untuk berbelanja di tempat yang sama berkali-kali dibandingkan dengan perempuan. Hal ini dapat dimanfaatkan untuk mendorong pembuatan brand membership karena memberikan peluang untuk *deliver* info dan promo menarik kepada members yang mendorong terjadinya transaksi baru oleh customer. \n",
    "3. **Fokus kepada perempuan untuk marketing items.** Hal ini karena perempuan lebih cenderung bersedia untuk *spending* lebih pada fashion item ketimbang dengan laki-laki khususnya untuk perempuan dengan age group Boomers II, Boomers I, dan Gen Z. Company perlu mempertimbangkan membuat fashion item untuk ketiga age group dan gender tersebut.  \n",
    "4. **Ukuran yang paling banyak di beli adalah 'M' untuk kedua gender, sedangkan preferensi warna yang paling banyak dibeli adalah warna kuning untuk perempuan dan warna silver untuk laki-laki.** Berdasarkan fakta ini, company perlu mempertimbangkan untuk memproduksi lebih banyak fashion item yang memiliki warna dan ukuran tersebut. \n",
    "5. **Category fashion item yang paling banyak dibeli pada setiap musim adalah clothing.** Company perlu berfokus pada category fashion ini untuk menghasilkan revenue yang tinggi untuk setiap musim.\n",
    "6. **Pada musim Fall customer paling banyak membeli jaket, pada musim spring customer paling banyak membeli sweater, pada musim winter customer paling banyak membeli sunglasses, pada musim summer customer paling banyak membeli pants.** Company dapat merancang strategi marketing untuk fokus pada penjualan barang tersebut pada setiap musim.\n",
    "7. **kategori aksesoris, clothing, dan outerwear lebih banyak dibeli oleh customer perempuan, sedangkan footwear lebih banyak dibeli oleh customer laki-laki.** Maka dari itu, company harus melakukan produksi dan penjualan pada setiap kategori dengan target market yang sesuai.\n",
    "8. **Frequency of Purchases tidak dipengaruhi apakah customer members atau non-members**. Company harus membuat strategi agar members dari brand memengaruhi Frequency of purchase, bisa dengan memberikan promo, info, dan barang eksklusif khusus member.  "
   ]
  }
 ],
 "metadata": {
  "kernelspec": {
   "display_name": "Python 3",
   "language": "python",
   "name": "python3"
  },
  "language_info": {
   "codemirror_mode": {
    "name": "ipython",
    "version": 3
   },
   "file_extension": ".py",
   "mimetype": "text/x-python",
   "name": "python",
   "nbconvert_exporter": "python",
   "pygments_lexer": "ipython3",
   "version": "3.11.7"
  }
 },
 "nbformat": 4,
 "nbformat_minor": 2
}
